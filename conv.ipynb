{
 "cells": [
  {
   "cell_type": "code",
   "execution_count": 6,
   "metadata": {},
   "outputs": [],
   "source": [
    "import random \n",
    "import os\n",
    "\n",
    "import torch as th \n",
    "import torch.nn as nn\n",
    "import torch.nn.functional as F\n",
    "import torch.optim as optim\n",
    "import numpy as np"
   ]
  },
  {
   "cell_type": "code",
   "execution_count": 70,
   "metadata": {},
   "outputs": [],
   "source": [
    "seed = 546\n",
    "random.seed(seed)\n",
    "np.random.seed(seed)\n",
    "th.manual_seed(seed)\n",
    "os.environ['PYTHONHASHSEED'] = str(seed)"
   ]
  },
  {
   "cell_type": "code",
   "execution_count": 26,
   "metadata": {},
   "outputs": [],
   "source": [
    "W = th.tensor([[1., 2.], [3., 4.], [5., 6.], [7., 8.]])\n",
    "b = th.tensor([0.1, 0.2, 0.3, 0.4])"
   ]
  },
  {
   "cell_type": "code",
   "execution_count": 31,
   "metadata": {},
   "outputs": [
    {
     "data": {
      "text/plain": [
       "tensor([[1., 2.],\n",
       "        [3., 4.],\n",
       "        [5., 6.],\n",
       "        [7., 8.]])"
      ]
     },
     "execution_count": 31,
     "metadata": {},
     "output_type": "execute_result"
    }
   ],
   "source": [
    "W "
   ]
  },
  {
   "cell_type": "code",
   "execution_count": 147,
   "metadata": {},
   "outputs": [],
   "source": [
    "class LinearNet(nn.Module):\n",
    "    def __init__(self):\n",
    "        super().__init__()\n",
    "        self.fc1 = nn.Linear(2, 4)\n",
    "        self.fc2 = nn.Linear(2, 4)\n",
    "        self.fc3 = nn.Linear(2, 4)\n",
    "        with th.no_grad():\n",
    "          self.fc1.weight.copy_(W)\n",
    "          self.fc1.bias.copy_(b)\n",
    "          self.fc2.weight.copy_(2 * W)\n",
    "          self.fc2.bias.copy_(2 * b)\n",
    "          self.fc3.weight.copy_(3 * W)\n",
    "          self.fc3.bias.copy_(3 * b)\n",
    "\n",
    "    def forward(self, x):\n",
    "        x = self.fc1(x)\n",
    "        return x\n",
    "\n",
    "class ConvNet(nn.Module):\n",
    "  def __init__(self):\n",
    "    super().__init__()\n",
    "    arms = 2\n",
    "    self.conv1 = nn.Conv1d(in_channels=2 * arms, out_channels=4 * arms, kernel_size=1, groups=arms)"
   ]
  },
  {
   "cell_type": "code",
   "execution_count": 150,
   "metadata": {},
   "outputs": [
    {
     "name": "stdout",
     "output_type": "stream",
     "text": [
      "OrderedDict({'fc1.weight': tensor([[1., 2.],\n",
      "        [3., 4.],\n",
      "        [5., 6.],\n",
      "        [7., 8.]]), 'fc1.bias': tensor([0.1000, 0.2000, 0.3000, 0.4000]), 'fc2.weight': tensor([[ 2.,  4.],\n",
      "        [ 6.,  8.],\n",
      "        [10., 12.],\n",
      "        [14., 16.]]), 'fc2.bias': tensor([0.2000, 0.4000, 0.6000, 0.8000]), 'fc3.weight': tensor([[ 3.,  6.],\n",
      "        [ 9., 12.],\n",
      "        [15., 18.],\n",
      "        [21., 24.]]), 'fc3.bias': tensor([0.3000, 0.6000, 0.9000, 1.2000])})\n"
     ]
    },
    {
     "data": {
      "text/plain": [
       "OrderedDict([('conv1.weight',\n",
       "              tensor([[[-0.4151],\n",
       "                       [ 0.3930]],\n",
       "              \n",
       "                      [[-0.2676],\n",
       "                       [-0.6095]],\n",
       "              \n",
       "                      [[ 0.4881],\n",
       "                       [ 0.4506]],\n",
       "              \n",
       "                      [[-0.6212],\n",
       "                       [ 0.2400]],\n",
       "              \n",
       "                      [[ 0.0949],\n",
       "                       [-0.3826]],\n",
       "              \n",
       "                      [[ 0.1136],\n",
       "                       [ 0.0898]],\n",
       "              \n",
       "                      [[-0.4709],\n",
       "                       [ 0.1905]],\n",
       "              \n",
       "                      [[ 0.2192],\n",
       "                       [-0.3311]]])),\n",
       "             ('conv1.bias',\n",
       "              tensor([-0.2992, -0.1274,  0.3168, -0.3119, -0.1002,  0.2047,  0.6358,  0.3593]))])"
      ]
     },
     "execution_count": 150,
     "metadata": {},
     "output_type": "execute_result"
    }
   ],
   "source": [
    "mc = ConvNet()\n",
    "\n",
    "print(ml.state_dict())\n",
    "mc.state_dict()"
   ]
  },
  {
   "cell_type": "code",
   "execution_count": null,
   "metadata": {},
   "outputs": [],
   "source": []
  },
  {
   "cell_type": "code",
   "execution_count": 37,
   "metadata": {},
   "outputs": [],
   "source": [
    "ml = LinearNet()"
   ]
  },
  {
   "cell_type": "code",
   "execution_count": 43,
   "metadata": {},
   "outputs": [
    {
     "data": {
      "text/plain": [
       "torch.Size([4, 2])"
      ]
     },
     "execution_count": 43,
     "metadata": {},
     "output_type": "execute_result"
    }
   ],
   "source": [
    "ml.state_dict()['fc1.weight'].shape"
   ]
  },
  {
   "cell_type": "code",
   "execution_count": null,
   "metadata": {},
   "outputs": [],
   "source": []
  }
 ],
 "metadata": {
  "kernelspec": {
   "display_name": "mdist-mmidas",
   "language": "python",
   "name": "python3"
  },
  "language_info": {
   "codemirror_mode": {
    "name": "ipython",
    "version": 3
   },
   "file_extension": ".py",
   "mimetype": "text/x-python",
   "name": "python",
   "nbconvert_exporter": "python",
   "pygments_lexer": "ipython3",
   "version": "3.12.4"
  }
 },
 "nbformat": 4,
 "nbformat_minor": 2
}
